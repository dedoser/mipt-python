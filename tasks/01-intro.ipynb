{
 "cells": [
  {
   "cell_type": "markdown",
   "metadata": {},
   "source": [
    "## Домашнее задание №1 (курс \"Практикум по программированию на языке Python\")"
   ]
  },
  {
   "attachments": {},
   "cell_type": "markdown",
   "metadata": {},
   "source": [
    "### Выполнил: <font color='red'>Де Ен Де, МГУ, ВМК</font>\n",
    "\n",
    "### Тема: Введение в язык Python\n",
    "\n",
    "**Автор**: Мурат Апишев\n",
    "\n",
    "**Выдана**:   16 февраля 2023\n",
    "\n",
    "**Дедлайн**:  21:00 3 марта 2023\n",
    "\n",
    "**Среда выполнения**: Jupyter Notebook (Python 3.7+)\n",
    "\n",
    "#### Правила:\n",
    "\n",
    "Результат выполнения задания - Jupyter Notebook с кодом. __Максимальное число баллов за задание - 20__.\n",
    "\n",
    "Все ячейки должны быть \"выполненными\", при этом результат должен воспроизводиться при проверке (на Python 3.7). Если какой-то код не был запущен или отрабатывает с ошибками, то пункт не засчитывается. Задание, сданное после дедлайна, _не принимается_. Можно отправить недоделанное задание, выполненные пункты будут оценены.\n",
    "\n",
    "Готовое задание отправляется на почту mel-lain@yandex.ru.\n",
    "\n",
    "Задание выполняется самостоятельно. Если какие-то студенты будут уличены в списывании, все они автоматически получат за эту работу 0 баллов. Если вы нашли в Интернете какой-то специфичный код, который собираетесь заимствовать, обязательно укажите это в задании - наверняка вы не единственный, кто найдёт и использует эту информацию.\n",
    "\n",
    "__Удалять фрагменты формулировок заданий запрещается.__"
   ]
  },
  {
   "cell_type": "markdown",
   "metadata": {},
   "source": [
    "#### Постановка задачи:\n",
    "\n",
    "- В данной работе нужно решить набор задач, проверяющих владение базовыми инструментами языка.\n",
    "- Каждая задача представляет собой написание одной или более функций, а также набора тестов, проверяющих работу этой функции в общих и крайних случаях.\n",
    "- Отсутствие тестов автоматически уменьшает количество баллов за задание как минимум в два раза, некачественные тесты также будут штрафоваться.\n",
    "- Если в задании указано использовать несколько разных вариантов решения, подразумевается использование различных инструментов (циклы, списковые включения, генераторы, встроенные функции, функции модулей стандартной библотеки и т.п.), замена, например, цикла for на цикл while не является иным способом решения.\n",
    "- Даже если это не указано явно в требованиях, код должен быть по возможности неизбыточным, работать с разумной сложностью и объёмом потребялемой памяти, проверяющие могут снизить балл за задание, выполненное без учёта этого требования.\n",
    "- Результирующий код должен быть читаемым, с единой системой отступов и адеквантными названиями переменных, проверяющие могут снизить балл за задание, выполненное без учёта этого требования."
   ]
  },
  {
   "cell_type": "markdown",
   "metadata": {},
   "source": [
    "__Задание 1 (0.5 балла):__ Дано натуральное число. Требуется определить, является ли год с данным номером високосным. Если год является високосным, то выведите YES, иначе выведите NO. Напомним, что в соответствии с григорианским календарем, год является високосным, если его номер кратен 4, но не кратен 100, а также если он кратен 400."
   ]
  },
  {
   "cell_type": "code",
   "execution_count": 100,
   "metadata": {},
   "outputs": [
    {
     "name": "stdout",
     "output_type": "stream",
     "text": [
      "YES\n",
      "NO\n",
      "YES\n",
      "NO\n",
      "NO\n"
     ]
    }
   ],
   "source": [
    "def task_01_func(year):\n",
    "    if year % 400 == 0:\n",
    "        print('YES')\n",
    "    elif year % 100 == 0:\n",
    "        print('NO')\n",
    "    elif year % 4 == 0:\n",
    "        print('YES')\n",
    "    else:\n",
    "        print('NO')\n",
    "\n",
    "task_01_func(2000) #YES\n",
    "task_01_func(2001) #NO\n",
    "task_01_func(2004) #YES\n",
    "task_01_func(2100) #NO\n",
    "task_01_func(1991) #NO"
   ]
  },
  {
   "cell_type": "code",
   "execution_count": 118,
   "metadata": {},
   "outputs": [
    {
     "name": "stdout",
     "output_type": "stream",
     "text": [
      "89.6\n"
     ]
    }
   ],
   "source": [
    "temp_cel = int(input())\n",
    "\n",
    "temp_far = 9 / 5 * temp_cel + 32\n",
    "\n",
    "print(temp_far)"
   ]
  },
  {
   "cell_type": "markdown",
   "metadata": {},
   "source": [
    "__Задание 2 (0.5 балла):__ Дано натуральное число. Найдите число знаков в его десятичной записи. Предложите как минимум два различных решения."
   ]
  },
  {
   "cell_type": "code",
   "execution_count": 101,
   "metadata": {},
   "outputs": [
    {
     "name": "stdout",
     "output_type": "stream",
     "text": [
      "True\n",
      "True\n",
      "True\n",
      "True\n",
      "True\n"
     ]
    }
   ],
   "source": [
    "def task_02_func(number):\n",
    "    not_positive = 1 if number <= 0 else 0\n",
    "    len = 0\n",
    "    abs_number = abs(number)\n",
    "    while (abs_number != 0):\n",
    "        abs_number //= 10\n",
    "        len += 1\n",
    "    return len + not_positive\n",
    "\n",
    "def task_02_func_v2(number):\n",
    "    return len(str(number))\n",
    "\n",
    "import sys\n",
    "\n",
    "print(task_02_func(123) == task_02_func_v2(123) == 3)\n",
    "print(task_02_func(-123) == task_02_func_v2(-123) == 4)\n",
    "print(task_02_func(0) == task_02_func_v2(0) == 1)\n",
    "print(task_02_func(sys.maxsize) == task_02_func_v2(sys.maxsize))\n",
    "print(task_02_func(-sys.maxsize - 1) == task_02_func_v2(-sys.maxsize - 1))\n"
   ]
  },
  {
   "cell_type": "markdown",
   "metadata": {},
   "source": [
    "__Задание 3 (0.5 балла):__ По данному натуральном n вычислите сумму 1!+2!+3!+...+n!. В решении этой задачи с помощью циклов можно использовать только один цикл. Предложите как минимум два различных решения."
   ]
  },
  {
   "cell_type": "code",
   "execution_count": 102,
   "metadata": {
    "collapsed": true
   },
   "outputs": [
    {
     "name": "stdout",
     "output_type": "stream",
     "text": [
      "True\n",
      "True\n",
      "True\n",
      "True\n",
      "True\n"
     ]
    }
   ],
   "source": [
    "def task_03_func(n):\n",
    "    res = 0\n",
    "    cur_fact = 1\n",
    "    for i in range(1, n + 1):\n",
    "        cur_fact *= i\n",
    "        res += cur_fact\n",
    "    return res\n",
    "\n",
    "def recursive_sum_factorial(n):\n",
    "    if (n == 1):\n",
    "        return 1\n",
    "    res = 1\n",
    "    for i in range(1, n + 1):\n",
    "        res *= i\n",
    "    return res + recursive_sum_factorial(n - 1)\n",
    "\n",
    "def task_03_func_v2(n):\n",
    "    return recursive_sum_factorial(n)\n",
    "\n",
    "print(task_03_func(1) == task_03_func_v2(1) == 1)\n",
    "print(task_03_func(2) == task_03_func_v2(2) == 3)\n",
    "print(task_03_func(3) == task_03_func_v2(3) == 9)\n",
    "print(task_03_func(4) == task_03_func_v2(4) == 33)\n",
    "print(task_03_func(5) == task_03_func_v2(5) == 153)\n"
   ]
  },
  {
   "cell_type": "markdown",
   "metadata": {},
   "source": [
    "__Задание 4 (0.5 балла):__ Определить, является ли введённая строка палиндромом (то есть одинаково читается с обеих сторон). Предложите как минимум три различных решения."
   ]
  },
  {
   "cell_type": "code",
   "execution_count": 103,
   "metadata": {
    "collapsed": true
   },
   "outputs": [
    {
     "name": "stdout",
     "output_type": "stream",
     "text": [
      "True\n",
      "True\n",
      "True\n"
     ]
    }
   ],
   "source": [
    "def task_04_func(s):\n",
    "    left = 0\n",
    "    right = len(s) - 1\n",
    "    while (left < right):\n",
    "        if s[left] != s[right]:\n",
    "            return False\n",
    "        left += 1\n",
    "        right -= 1\n",
    "    return True\n",
    "\n",
    "def task_04_func_v2(s):\n",
    "    return s == s[::-1]\n",
    "\n",
    "def task_04_func_v3(s):\n",
    "    if (len(s) < 2):\n",
    "        return True\n",
    "    if (s[0] == s[-1]):\n",
    "        return task_04_func_v3(s[1:len(s) - 1])\n",
    "    return False\n",
    "\n",
    "\n",
    "print(task_04_func('abcba'))\n",
    "print(task_04_func_v2('acdbbdca'))\n",
    "print(task_04_func_v3('abddba'))"
   ]
  },
  {
   "cell_type": "markdown",
   "metadata": {},
   "source": [
    "__Задание 5 (1 балл):__ Дан текст в виде строки. Напишите функцию, которая возвращает словарь, где ключами являются уникальные слова из этого текста, а значениями - число раз, которое данное слово встретилось в тексте. Считать, что слова разделяются пробелами. Предложите как минимум два различных решения."
   ]
  },
  {
   "cell_type": "code",
   "execution_count": 104,
   "metadata": {
    "collapsed": true
   },
   "outputs": [],
   "source": [
    "def task_05_func(text):\n",
    "    words = text.split()\n",
    "    counts = {}\n",
    "\n",
    "    for word in words:\n",
    "        if word in counts:\n",
    "            counts[word] += 1\n",
    "        else:\n",
    "            counts[word] = 1\n",
    "    return counts\n",
    "\n",
    "from collections import Counter\n",
    "\n",
    "def task_05_func_v2(text):\n",
    "    words = text.split()\n",
    "    counter = Counter(words)\n",
    "    return dict(counter)\n",
    "\n",
    "test_cases = [\n",
    "    ('Apple    Mango Orange Mango    Guava Guava Mango', {'Apple': 1, 'Mango': 3, 'Orange': 1, 'Guava': 2}),\n",
    "    ('', {}),\n",
    "    ('a a a a a a a a a aaaaaa a a a a a', {'aaaaaa': 1, 'a': 14}),\n",
    "    ('                        ', {}),\n",
    "]\n",
    "\n",
    "for text, expected in test_cases:\n",
    "    assert task_05_func(text) == task_05_func_v2(text) == expected \n"
   ]
  },
  {
   "cell_type": "markdown",
   "metadata": {},
   "source": [
    "__Задание 6 (1 балл):__ Напишите функцию, которая принимает на вход строку и символ и возвращает:\n",
    "\n",
    "- если символ встретился в строке один раз - кортеж (индекс вхождения, None);\n",
    "- если два и более раз - кортеж (индекс первого вхождения, индекс последнего вхождения);\n",
    "- если ни разу - кортеж (None, None).\n",
    "\n",
    "Запрещается делать более одного прохода по каждому элементу строки."
   ]
  },
  {
   "cell_type": "code",
   "execution_count": 105,
   "metadata": {
    "collapsed": true
   },
   "outputs": [],
   "source": [
    "def task_06_func(input_str, input_char):\n",
    "    was_first_occur = False\n",
    "    first_occur = None\n",
    "    last_occur = None\n",
    "    for i, letter in enumerate(list(input_str)):\n",
    "        if not was_first_occur and letter == input_char:\n",
    "            first_occur = i\n",
    "            was_first_occur = True\n",
    "        if letter == input_char:\n",
    "            last_occur = i\n",
    "    if (last_occur == first_occur):\n",
    "        return (first_occur, None)\n",
    "    return (first_occur, last_occur)\n",
    "\n",
    "test_cases = (\n",
    "    ('aabaaaaaaaaaaaa', 'b', (2, None)),\n",
    "    ('aaaaaaaaaaaaaaa', 'b', (None, None)),\n",
    "    ('abaaaaaaaabaab', 'b', (1, 13)),\n",
    "    ('', 'q', (None, None)),\n",
    "    ('abbbbbbbbbbba', 'b', (1, 11))\n",
    ")\n",
    "\n",
    "for test_str, test_char, expected in test_cases:\n",
    "    assert task_06_func(test_str, test_char) == expected, f'{task_06_func(test_str, test_char)}'\n"
   ]
  },
  {
   "cell_type": "markdown",
   "metadata": {},
   "source": [
    "__Задание 7 (1 балл):__ Дан список целых чисел. Напишите функцию, которая возвращает копию этого списка, из которой удалены отрицательные числа, а все прочие числа возведены в квадрат. Также возвращаемая последовательность должна быть отсортирована по убыванию. Предложите как минимум три различных решения."
   ]
  },
  {
   "cell_type": "code",
   "execution_count": 106,
   "metadata": {
    "collapsed": true
   },
   "outputs": [],
   "source": [
    "def task_07_func(lst):\n",
    "    res = [x**2 for x in lst if x >= 0]\n",
    "    res.sort(reverse=True)\n",
    "    return res\n",
    "\n",
    "def task_07_func_v2(lst):\n",
    "    res = list(map(lambda x: x ** 2, filter(lambda x: x >= 0, lst)))\n",
    "    res.sort(reverse=True)\n",
    "    return res\n",
    "\n",
    "def task_07_func_v3(lst):\n",
    "    res = []\n",
    "    for dig in lst:\n",
    "        if dig >= 0:\n",
    "            res.append(dig ** 2)\n",
    "    res.sort(reverse=True)\n",
    "    return res\n",
    "\n",
    "test_cases = [\n",
    "    ([1, 2, 3, -1, -2, -3], [9, 4, 1]),\n",
    "    ([], []),\n",
    "    ([3], [9]),\n",
    "    ([-100, -99, -98], []),\n",
    "    ([0], [0])\n",
    "]\n",
    "\n",
    "for lst, expected in test_cases:\n",
    "    assert task_07_func(lst) == task_07_func_v2(lst) == task_07_func_v3(lst) == expected"
   ]
  },
  {
   "cell_type": "markdown",
   "metadata": {},
   "source": [
    "__Задание 8 (1 балл):__ Напишите функцию, которая принимает на вход список кортежей одинаковой длины и индекс `index` элемента в кортеже и возвращает генератор, итерирование по которому позволит получит все кортежи входного списка, отсортированные по убыванию элементов этих кортежей с индексом `index`."
   ]
  },
  {
   "cell_type": "code",
   "execution_count": 107,
   "metadata": {},
   "outputs": [],
   "source": [
    "def task_08_func(lst, index):\n",
    "    sorted_lst = sorted(lst, key=lambda elem: elem[index], reverse=True)\n",
    "    for elem in sorted_lst:\n",
    "        yield elem\n",
    "\n",
    "def run_test(generator, expected_lst):\n",
    "    actual_lst = list(generator)\n",
    "    assert actual_lst == expected_lst, f'Actual: {actual_lst}, Expected: {expected_lst}'\n",
    "\n",
    "test_cases = [\n",
    "    (\n",
    "        [(123, 'c'), (456, 'a', 789), ('asd', 'b', (1, 2, 3))], \n",
    "        1, \n",
    "        [(123, 'c'), ('asd', 'b', (1, 2, 3)), (456, 'a', 789)]\n",
    "    ),\n",
    "    (\n",
    "        [],\n",
    "        1, \n",
    "        []\n",
    "    ),\n",
    "    (\n",
    "        [(123, 'c')], \n",
    "        -1, \n",
    "        [(123, 'c')]\n",
    "    ),\n",
    "]\n",
    "\n",
    "for turple_lst, index, expected_lst in test_cases:\n",
    "    generator = task_08_func(turple_lst, index)\n",
    "    run_test(generator, expected_lst)\n",
    "\n"
   ]
  },
  {
   "cell_type": "markdown",
   "metadata": {},
   "source": [
    "__Задание 9 (1 балл):__ Напишите функцию, которая получает на вход натуральное число `n` и выводит первые `n` строк треугольника Паскаля."
   ]
  },
  {
   "cell_type": "code",
   "execution_count": 108,
   "metadata": {
    "collapsed": true
   },
   "outputs": [
    {
     "name": "stdout",
     "output_type": "stream",
     "text": [
      "1 \n",
      "1 1 \n",
      "1 2 1 \n",
      "1 3 3 1 \n",
      "1 4 6 4 1 \n",
      "1 5 10 10 5 1 \n",
      "1 6 15 20 15 6 1 \n",
      "1 7 21 35 35 21 7 1 \n",
      "1 8 28 56 70 56 28 8 1 \n",
      "1 9 36 84 126 126 84 36 9 1 \n"
     ]
    }
   ],
   "source": [
    "from math import factorial\n",
    "\n",
    "cache = {}\n",
    "\n",
    "def fact(n):\n",
    "    if (n not in cache):\n",
    "        cache[n] = factorial(n)\n",
    "    return cache[n]\n",
    "\n",
    "def task_09_func(n):\n",
    "    for i in range(n):\n",
    "        for j in range(i + 1):\n",
    "            print(fact(i) // (fact(j) * fact(i - j)), end=' ')\n",
    "        print()\n",
    "\n",
    "task_09_func(10)\n"
   ]
  },
  {
   "cell_type": "markdown",
   "metadata": {},
   "source": [
    "__Задание 10 (1 балл):__ Напишите функцию, которая принимает на вход абсолютный путь к директории и две строки с расширениями файлов. В результате её выполнения у всех файлов в указанной директории, имеющих первое расширение, расширение должно измениться на второе. В конце работы функция должна возвращать кортеж из двух элементов:\n",
    "\n",
    "1. сколько всего в директории файлов (именно файлов, не директорий);\n",
    "2. у скольки из них расширение было изменено.\n",
    "\n",
    "Допускается только один проход по каждому файлу из указанной директории."
   ]
  },
  {
   "cell_type": "code",
   "execution_count": 109,
   "metadata": {
    "collapsed": true
   },
   "outputs": [],
   "source": [
    "import os\n",
    "import shutil\n",
    "\n",
    "def task_10_func(dir_path, prev_extension, next_extension):\n",
    "    rename_count = 0\n",
    "    file_list = os.listdir(dir_path)\n",
    "    for f in file_list:\n",
    "        if f.endswith(prev_extension):\n",
    "            new_file_name = f.replace(prev_extension, next_extension)\n",
    "            os.rename(f'{dir_path}/{f}', f'{dir_path}/{new_file_name}')\n",
    "            rename_count += 1\n",
    "    return (rename_count, len(file_list))\n",
    "\n",
    "abs_dir_path = os.path.abspath('.') + '/test'\n",
    "os.mkdir(abs_dir_path)\n",
    "\n",
    "with open(f'{abs_dir_path}/test.py', 'x') as t1, open(f'{abs_dir_path}/test1.py', 'x') as t2, open(f'{abs_dir_path}/test2.c', 'x') as t3:\n",
    "    ...\n",
    "\n",
    "res = task_10_func(f'{abs_dir_path}', '.py', '.c')\n",
    "\n",
    "file_list = os.listdir(abs_dir_path)\n",
    "file_list.sort()\n",
    "assert file_list == ['test.c', 'test1.c', 'test2.c']\n",
    "assert res == (2, 3)\n",
    "\n",
    "shutil.rmtree(abs_dir_path)"
   ]
  },
  {
   "cell_type": "markdown",
   "metadata": {},
   "source": [
    "__Задание 11 (1 балл):__ Описать функцию, которая принимает на вход два списка и возвращает список уникальных элементов, которые есть в первом входном списке и отсутствуют во втором. Запрещается использовать циклы и списковые включения/генераторы списков."
   ]
  },
  {
   "cell_type": "code",
   "execution_count": 110,
   "metadata": {
    "collapsed": true
   },
   "outputs": [],
   "source": [
    "def task_11_func(first_list, second_list):\n",
    "    first_set = set(first_list)\n",
    "    second_set = set(second_list)\n",
    "    return list(first_set - second_set)\n",
    "\n",
    "test_cases = [\n",
    "    ([1,2,3,3,1], [1,4], [2, 3]),\n",
    "    ([], [], []),\n",
    "    ([1, 2, 3], [4, 5, 6], [1, 2, 3]),\n",
    "    ([1, 2, 3, 3], [1, 2, 3], [])\n",
    "]\n",
    "\n",
    "for first_list, second_list, expected in test_cases:\n",
    "    assert task_11_func(first_list, second_list) == expected\n"
   ]
  },
  {
   "cell_type": "markdown",
   "metadata": {},
   "source": [
    "__Задание 12 (1 балл):__ Напишите функцию, которая получает на вход путь к файлу, в котором в каждой строке записано одно вещественное число, а также путь к выходному файлу. Функция должна прочитать содержимое файла, игнорировать строки с нечётными индексами, а строки с чётными индексами должна увеличить на минимальное из чисел, содержащихся в этом файле. Полученные числа нужно записать в выходной файл с точностью 5 знаков после запятой.\n",
    "\n",
    "Требуется сделать не более двух проходов по входному файлу, расход памяти на протяжении работы должен быть O(1) (то есть никак не зависеть от числа строк во входном файле)."
   ]
  },
  {
   "cell_type": "code",
   "execution_count": 111,
   "metadata": {
    "collapsed": true
   },
   "outputs": [],
   "source": [
    "import sys\n",
    "import os\n",
    "\n",
    "def task_12_func(input_path, output_path):\n",
    "    min_dig = sys.float_info.max\n",
    "\n",
    "    with open(input_path, 'r') as input:\n",
    "        for line in input:\n",
    "            cur_dig = float(line.strip())\n",
    "            if cur_dig < min_dig:\n",
    "                min_dig = cur_dig\n",
    "    \n",
    "    ind = 0\n",
    "    with open(input_path, 'r') as input, open(output_path, 'w') as output:\n",
    "        for line in input:\n",
    "            cur_dig = float(line.strip())\n",
    "            if ind % 2 == 0:\n",
    "                output.write(f'{(cur_dig + min_dig):.5f}\\n')\n",
    "            ind += 1\n",
    "\n",
    "test_file = './task_12_test'\n",
    "test_output = './task_12_out_test'\n",
    "test_dig = [1.234567, -0.123, 0.987654, 2.3456789]\n",
    "expected_dig = [round(num, 5) + min(test_dig) for ind, num in enumerate(test_dig) if ind % 2 == 0]\n",
    "\n",
    "with open(test_file, 'w') as test_in:\n",
    "    for num in test_dig:\n",
    "        test_in.write(str(num) + '\\n')\n",
    "\n",
    "task_12_func(test_file, test_output)\n",
    "\n",
    "with open(test_output, 'r') as test_out:\n",
    "    res = [float(line.strip()) for line in test_out]\n",
    "os.remove(test_file)\n",
    "os.remove(test_output)\n",
    "assert res == expected_dig, f'{res}, {expected_dig}'\n"
   ]
  },
  {
   "cell_type": "markdown",
   "metadata": {},
   "source": [
    "__Задание 13 (1 балл):__ Написать функцию, которая принимает на вход число `n`, которое может быть либо натуральным, либо -1, и возвращает генератор чисел Фиббоначи. Если входной параметр равен натуральному числу, то генератор должен выдавать последовательно числа Фиббоначи до `n`-го. Если `n` равно -1, то генератор должен быть бесконечным."
   ]
  },
  {
   "cell_type": "code",
   "execution_count": 112,
   "metadata": {},
   "outputs": [],
   "source": [
    "import itertools\n",
    "\n",
    "def task_13_func(n):\n",
    "    cur, next = 1, 1\n",
    "    i = n if n == -1 else 1\n",
    "    step = 0 if n == -1 else 1\n",
    "    \n",
    "    while i <= n:\n",
    "        yield cur\n",
    "        tmp = next\n",
    "        next += cur\n",
    "        cur = tmp\n",
    "        i += step\n",
    "\n",
    "test_cases = [\n",
    "    (2, [1, 1]),\n",
    "    (3, [1, 1, 2]),\n",
    "    (4, [1, 1, 2, 3]),\n",
    "    (5, [1, 1, 2, 3, 5]),\n",
    "    (6, [1, 1, 2, 3, 5, 8]),\n",
    "    (7, [1, 1, 2, 3, 5, 8, 13]),\n",
    "    (8, [1, 1, 2, 3, 5 , 8, 13, 21])\n",
    "]\n",
    "\n",
    "for n, expected in test_cases:\n",
    "    assert list(task_13_func(n)) == expected\n",
    "    assert list(itertools.islice(task_13_func(-1), n)) == expected"
   ]
  },
  {
   "cell_type": "markdown",
   "metadata": {},
   "source": [
    "__Задание 14 (1 балл):__ Написать функцию, которая принимает на вход произвольный объект, проверяет его тип, и для целого числа возвращает список всех магических методов объекта, начинающихся с `__a`, для строк - с `__s`. Для всех прочих типов должен возвращаться список немагических методов. В задании запрещается использовать циклы и списковые включения/генераторы списков."
   ]
  },
  {
   "cell_type": "code",
   "execution_count": 113,
   "metadata": {
    "collapsed": true
   },
   "outputs": [],
   "source": [
    "def task_14_func(n):\n",
    "    value_filter = None\n",
    "\n",
    "    n_type = type(n)\n",
    "\n",
    "    if n_type is int:\n",
    "        value_filter = lambda x: x.startswith('__a') and x.endswith('__')\n",
    "    elif n_type is str:\n",
    "        value_filter = lambda x: x.startswith('__s') and x.endswith('__')\n",
    "    else:\n",
    "        value_filter = lambda x: not (x.startswith('__') and x.endswith('__'))\n",
    "    return list(filter(value_filter, dir(n)))\n",
    "\n",
    "test_cases = [\n",
    "    (None, []),\n",
    "    ('str', ['__setattr__', '__sizeof__', '__str__', '__subclasshook__']),\n",
    "    (1, ['__abs__', '__add__', '__and__']),\n",
    "    ([], ['append', 'clear', 'copy', 'count', 'extend', 'index', 'insert', 'pop', 'remove', 'reverse', 'sort']),\n",
    "    (True, ['as_integer_ratio', 'bit_count', 'bit_length', 'conjugate', 'denominator', 'from_bytes', 'imag', 'numerator', 'real', 'to_bytes'])\n",
    "]\n",
    "\n",
    "for n, expected_methods in test_cases:\n",
    "    actual = task_14_func(n)\n",
    "    assert actual == expected_methods, f'Type: {type(n)}, Actual: {actual}, Expected: {expected_methods}'"
   ]
  },
  {
   "cell_type": "markdown",
   "metadata": {},
   "source": [
    "__Задание 15 (1.5 балла):__ Написать функцию, которая во входной строке заменяет вхождения всех английских заглавных букв на их номер в таблице ASCII, затем производит сплит по минимальной из цифр строки. Предложите как минимум два различных решения, одно из которых не должно использовать циклы. При использовании циклов допускается не более двух проходов по строке."
   ]
  },
  {
   "cell_type": "code",
   "execution_count": 114,
   "metadata": {},
   "outputs": [],
   "source": [
    "import sys\n",
    "\n",
    "def task_15_func(n):\n",
    "    if len(n) == 0:\n",
    "        return []\n",
    "    lst = list(n)\n",
    "    converted_str = ''.join(map(lambda x: str(ord(x)) if x.isupper() and x.isalpha() else x, lst))\n",
    "    min_digit = min(converted_str, key=lambda x: int(x) if x.isdigit() else sys.maxsize)\n",
    "    return list(filter(\n",
    "                    lambda x: len(x) > 0,\n",
    "                    converted_str.split(min_digit)\n",
    "                    )\n",
    "                )\n",
    "\n",
    "def task_15_func_v2(n):\n",
    "    if len(n) == 0:\n",
    "        return []\n",
    "    converted_str = ''.join([str(ord(x)) if x.isupper() and x.isalpha() else x for x in n])\n",
    "    min_digit = min(converted_str, key=lambda x: int(x) if x.isdigit() else sys.maxsize)\n",
    "    return list(filter(\n",
    "                    lambda x: len(x) > 0,\n",
    "                    converted_str.split(min_digit)\n",
    "                    )\n",
    "                )\n",
    "\n",
    "test_cases = [\n",
    "    ('', []),\n",
    "    ('asdAasdBqwe', ['asd6', 'asd66qwe']), #A = 65, B = 66\n",
    "    ('F00000000000000000', ['7']), #F = 70\n",
    "    ('B', []), # B = 66\n",
    "    ('1230123', ['123', '123'])\n",
    "]\n",
    "\n",
    "for test_str, expected_split in test_cases:\n",
    "    res_v1 = task_15_func(test_str)\n",
    "    res_v2 = task_15_func_v2(test_str)\n",
    "    assert res_v1 == res_v2 == expected_split, f'Test str: {test_str}, res_v1: {res_v1}, res_v2: {res_v2}, expected: {expected_split}'"
   ]
  },
  {
   "cell_type": "markdown",
   "metadata": {},
   "source": [
    "__Задание 16 (1.5 балла):__ Написать функцию, которая принимает на вход строку и извлекает из неё мобильные телефонные номера с помощью регулярных выражений. Функция должна поддерживать общепринятые варианты написания номера, как со всевозможными разделителями, так и без них (обеспечьте поддержку не менее 10 различных случаев). Возвращаемым значением функции является список всех найденных в строке номеров, если их не было, нужно вернуть пустой список."
   ]
  },
  {
   "cell_type": "code",
   "execution_count": 115,
   "metadata": {},
   "outputs": [],
   "source": [
    "import re\n",
    "\n",
    "\n",
    "def task_16_func(n):\n",
    "    ..."
   ]
  },
  {
   "cell_type": "markdown",
   "metadata": {},
   "source": [
    "__Задание 17 (5 баллов):__ Опишем бинарное дерево, представленное в виде вложенных кортежей, в каждом узле дерева хранится вещественное число и ссылка на левое и правое поддерево.\n",
    "\n",
    "Пример: для сбалансированного дерева\n",
    "\n",
    "```\n",
    "        v_0\n",
    "       /   \\\n",
    "   v_11     v_12\n",
    "  /  \\       /  \\\n",
    "v_21 v_22  v_23 v_24\n",
    "```\n",
    "\n",
    "представление в виде кортежей будет выглядеть так:\n",
    "\n",
    "```\n",
    "(v_0,\n",
    "    (v_11,\n",
    "        (v_21, None, None),\n",
    "        (v_22, None, None)\n",
    "    ),\n",
    "    (v_12,\n",
    "        (v_23, None, None),\n",
    "        (v_24, None, None)\n",
    "    )\n",
    ")\n",
    "```\n",
    "\n",
    "Необходимо написать функцию, которая принимает на вход бинарное дерево (не обязательно сбалансированное), закодированное описанным способом в виде кортежа, производит его обход в глубину и для каждой листовой вершины вычисляет сумму всех значений от корня до неё включительно. Функция ничего не возвращает, вместо этого она выводит получаемые суммы в порядке следования листовых вершин (слева направо).\n",
    "\n",
    "Реализуйте два решения: на основе рекурсии и на основе циклов."
   ]
  },
  {
   "cell_type": "code",
   "execution_count": 116,
   "metadata": {},
   "outputs": [
    {
     "name": "stdout",
     "output_type": "stream",
     "text": [
      "\n",
      "         1\n",
      "       /   \\\n",
      "     2       5\n",
      "   /  \\     /  \\\n",
      "  3    4   6     7\n",
      "      /     \\   /  \\\n",
      "    1       10 0    1\n",
      "   /                 \\\n",
      "  1                    1\n",
      "\n",
      "6 9 22 13 15 \n",
      "6 9 22 13 15 "
     ]
    }
   ],
   "source": [
    "def sum_tree_in_deep(root, prev_sum):\n",
    "    (value, left, right) = root\n",
    "\n",
    "    if left is None and right is None:\n",
    "        print(value + prev_sum, end=' ')\n",
    "    if left is not None:\n",
    "        sum_tree_in_deep(left, prev_sum + value)\n",
    "    if right is not None:\n",
    "        sum_tree_in_deep(right, prev_sum + value)\n",
    "\n",
    "def task_17_func(n):\n",
    "    sum_tree_in_deep(n, 0)\n",
    "\n",
    "def task_17_func_loop(n):\n",
    "    stack = [(n, False)]\n",
    "    cur_sum = 0\n",
    "\n",
    "    while (len(stack) != 0):\n",
    "        (cur_elem, was_in_stack) = stack.pop()\n",
    "        if cur_elem is None:\n",
    "            continue\n",
    "        (value, left, right) = cur_elem\n",
    "        if left is None and right is None:\n",
    "            print(cur_sum + value, end=' ')\n",
    "        elif was_in_stack:\n",
    "            cur_sum -= value\n",
    "        else:\n",
    "            stack.append((cur_elem, True))\n",
    "            stack.append((right, False))\n",
    "            stack.append((left, False))\n",
    "            cur_sum += value\n",
    "        if len(stack) == 1:\n",
    "            break       \n",
    "\n",
    "\n",
    "root = (1,\n",
    "        (2,\n",
    "            (3, None, None),\n",
    "            (4, (1, (1, None, None), None), None)\n",
    "        ),\n",
    "        (5,\n",
    "            (6, None, (10, None, None)),\n",
    "            (7, (0, None, None), (1, None, (1, None, None)))\n",
    "        ))\n",
    "print('''\n",
    "         1\n",
    "       /   \\\\\n",
    "     2       5\n",
    "   /  \\     /  \\\\\n",
    "  3    4   6     7\n",
    "      /     \\   /  \\\\\n",
    "    1       10 0    1\n",
    "   /                 \\\\\n",
    "  1                    1\n",
    "''')\n",
    "task_17_func(root)\n",
    "print()\n",
    "task_17_func_loop(root)"
   ]
  }
 ],
 "metadata": {
  "kernelspec": {
   "display_name": "Python 3",
   "language": "python",
   "name": "python3"
  },
  "language_info": {
   "codemirror_mode": {
    "name": "ipython",
    "version": 3
   },
   "file_extension": ".py",
   "mimetype": "text/x-python",
   "name": "python",
   "nbconvert_exporter": "python",
   "pygments_lexer": "ipython3",
   "version": "3.10.10"
  },
  "vscode": {
   "interpreter": {
    "hash": "129ee8ef52b0823ebb23c572b0fdd7f290f4ba59c96cd302a9f9d32b4dfe050c"
   }
  }
 },
 "nbformat": 4,
 "nbformat_minor": 2
}
